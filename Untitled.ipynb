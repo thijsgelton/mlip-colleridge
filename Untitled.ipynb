{
 "cells": [
  {
   "cell_type": "code",
   "execution_count": 1,
   "id": "weighted-corps",
   "metadata": {},
   "outputs": [],
   "source": [
    "import collections"
   ]
  },
  {
   "cell_type": "code",
   "execution_count": 25,
   "id": "distant-trader",
   "metadata": {},
   "outputs": [],
   "source": [
    "tag_counter = {\"O\": 0, \"B-DS\": 0, \"I-DS\": 0}"
   ]
  },
  {
   "cell_type": "code",
   "execution_count": 26,
   "id": "polish-maintenance",
   "metadata": {},
   "outputs": [],
   "source": [
    "with open(\"conll_formatted_annotated_training_corpus.txt\", \"r\") as f:\n",
    "    for line in f.readlines():\n",
    "        strp = line.replace('\\n','')\n",
    "        if strp:\n",
    "            tag_counter[strp.split()[-1].strip()] += 1\n",
    "            "
   ]
  },
  {
   "cell_type": "code",
   "execution_count": 27,
   "id": "nonprofit-clearing",
   "metadata": {
    "scrolled": true
   },
   "outputs": [
    {
     "name": "stdout",
     "output_type": "stream",
     "text": [
      "{'O': 104057096, 'B-DS': 50100, 'I-DS': 88184}\n"
     ]
    }
   ],
   "source": [
    "print(tag_counter)"
   ]
  },
  {
   "cell_type": "code",
   "execution_count": 28,
   "id": "blind-grenada",
   "metadata": {},
   "outputs": [],
   "source": [
    "import matplotlib.pyplot as plt"
   ]
  },
  {
   "cell_type": "code",
   "execution_count": 31,
   "id": "amateur-treasury",
   "metadata": {},
   "outputs": [],
   "source": [
    "tag_counter_after = {\"O\": 0, \"B-DS\": 0, \"I-DS\": 0}"
   ]
  },
  {
   "cell_type": "code",
   "execution_count": 32,
   "id": "professional-chrome",
   "metadata": {},
   "outputs": [],
   "source": [
    "with open(\"balanced_conll_formatted_annotated_training_corpus_train_0.8.txt\", \"r\") as f:\n",
    "    for line in f.readlines():\n",
    "        strp = line.replace('\\n','')\n",
    "        if strp:\n",
    "            tag_counter_after[strp.split()[-1].strip()] += 1\n",
    "with open(\"balanced_conll_formatted_annotated_training_corpus_eval_0.2.txt\", \"r\") as f:\n",
    "    for line in f.readlines():\n",
    "        strp = line.replace('\\n','')\n",
    "        if strp:\n",
    "            tag_counter_after[strp.split()[-1].strip()] += 1\n",
    "                        "
   ]
  },
  {
   "cell_type": "code",
   "execution_count": 33,
   "id": "technological-bracket",
   "metadata": {},
   "outputs": [],
   "source": [
    "tag_counter_after_only = {\"O\": 0, \"B-DS\": 0, \"I-DS\": 0}"
   ]
  },
  {
   "cell_type": "code",
   "execution_count": 34,
   "id": "cardiovascular-librarian",
   "metadata": {},
   "outputs": [],
   "source": [
    "with open(\"balanced_only_bds_conll_formatted_annotated_training_corpus_train_0.8.txt\", \"r\") as f:\n",
    "    for line in f.readlines():\n",
    "        strp = line.replace('\\n','')\n",
    "        if strp:\n",
    "            tag_counter_after_only[strp.split()[-1].strip()] += 1\n",
    "with open(\"balanced_only_bds_conll_formatted_annotated_training_corpus_eval_0.2.txt\", \"r\") as f:\n",
    "    for line in f.readlines():\n",
    "        strp = line.replace('\\n','')\n",
    "        if strp:\n",
    "            tag_counter_after_only[strp.split()[-1].strip()] += 1\n",
    "                        "
   ]
  },
  {
   "cell_type": "code",
   "execution_count": 35,
   "id": "exact-fruit",
   "metadata": {},
   "outputs": [],
   "source": [
    "import pandas as pd"
   ]
  },
  {
   "cell_type": "code",
   "execution_count": 50,
   "id": "yellow-python",
   "metadata": {},
   "outputs": [
    {
     "data": {
      "text/plain": [
       "<AxesSubplot:>"
      ]
     },
     "execution_count": 50,
     "metadata": {},
     "output_type": "execute_result"
    },
    {
     "data": {
      "image/png": "[encoded data removed]",
      "text/plain": [
       "<Figure size 432x288 with 1 Axes>"
      ]
     },
     "metadata": {
      "needs_background": "light"
     },
     "output_type": "display_data"
    }
   ],
   "source": [
    "pd.DataFrame({'Orignal': tag_counter\n",
    "#               , 'With context': tag_counter_after, \"Only datasets\": tag_counter_after_only\n",
    "             })[::-1].plot.bar()"
   ]
  }
 ],
 "metadata": {
  "kernelspec": {
   "display_name": "Python 3",
   "language": "python",
   "name": "python3"
  },
  "language_info": {
   "codemirror_mode": {
    "name": "ipython",
    "version": 3
   },
   "file_extension": ".py",
   "mimetype": "text/x-python",
   "name": "python",
   "nbconvert_exporter": "python",
   "pygments_lexer": "ipython3",
   "version": "3.7.9"
  }
 },
 "nbformat": 4,
 "nbformat_minor": 5
}
